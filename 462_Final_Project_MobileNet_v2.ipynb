{
  "nbformat": 4,
  "nbformat_minor": 0,
  "metadata": {
    "colab": {
      "name": "462_Final_Project_MobileNet_v2",
      "provenance": [],
      "collapsed_sections": [],
      "toc_visible": true
    },
    "kernelspec": {
      "name": "python3",
      "display_name": "Python 3"
    }
  },
  "cells": [
    {
      "cell_type": "code",
      "metadata": {
        "id": "rY3h6Uu7d4fP",
        "colab_type": "code",
        "colab": {}
      },
      "source": [
        "#Update to Tensorflow 2.0 \n",
        "#!pip install -U tensorflow\n",
        "\n",
        "# Use the %tensorflow_version magic if in colab.\n",
        "try:\n",
        "  %tensorflow_version 2.x\n",
        "except Exception:\n",
        "  pass"
      ],
      "execution_count": 0,
      "outputs": []
    },
    {
      "cell_type": "code",
      "metadata": {
        "id": "blVEVwJzwTd6",
        "colab_type": "code",
        "outputId": "b6a0d3b4-d5b6-4cc8-fa81-d1ce4fc835c0",
        "colab": {
          "base_uri": "https://localhost:8080/",
          "height": 50
        }
      },
      "source": [
        "#Check GPU on Colab \n",
        "gpu_info = !nvidia-smi\n",
        "gpu_info = '\\n'.join(gpu_info)\n",
        "if gpu_info.find('failed') >= 0:\n",
        "  print('Select the Runtime > \"Change runtime type\" menu to enable a GPU accelerator, ')\n",
        "  print('and then re-execute this cell.')\n",
        "else:\n",
        "  print(gpu_info)"
      ],
      "execution_count": 0,
      "outputs": [
        {
          "output_type": "stream",
          "text": [
            "Select the Runtime > \"Change runtime type\" menu to enable a GPU accelerator, \n",
            "and then re-execute this cell.\n"
          ],
          "name": "stdout"
        }
      ]
    },
    {
      "cell_type": "code",
      "metadata": {
        "id": "AxADQ2BlfAxH",
        "colab_type": "code",
        "colab": {}
      },
      "source": [
        "#imports\n",
        "import tensorflow as tf\n",
        "\n",
        "from tensorflow import keras\n",
        "from tensorflow.keras.models import Sequential\n",
        "from tensorflow.keras import layers\n",
        "from tensorflow.keras import models\n",
        "from tensorflow.keras import optimizers\n",
        "from tensorflow.keras.preprocessing import sequence\n",
        "from tensorflow.keras.preprocessing.image import ImageDataGenerator\n",
        "\n",
        "from sklearn.metrics import confusion_matrix, accuracy_score, auc\n",
        "from sklearn import metrics\n",
        "\n",
        "import numpy as np\n",
        "import pandas as pd\n",
        "import matplotlib.pyplot as plt\n",
        "from time import time \n",
        "from collections import OrderedDict \n",
        "\n",
        "import os\n",
        "import shutil"
      ],
      "execution_count": 0,
      "outputs": []
    },
    {
      "cell_type": "markdown",
      "metadata": {
        "id": "cVHk8NhVluRN",
        "colab_type": "text"
      },
      "source": [
        "##Data"
      ]
    },
    {
      "cell_type": "code",
      "metadata": {
        "id": "eGXwRpMkKYPr",
        "colab_type": "code",
        "colab": {}
      },
      "source": [
        "create_dir = False\n",
        "\n",
        "directory_in_str = '/content/drive/My Drive/Northwestern/MSDS462/Final Project/data/CUB_200_2011/CUB_200_2011/images'\n",
        "base_dir = '/content/drive/My Drive/Northwestern/MSDS462/Final Project/data'\n",
        "\n",
        "#Create Train Validation and Test directories\n",
        "train_dir = os.path.join(base_dir, 'train')\n",
        "validation_dir = os.path.join(base_dir, 'validation')\n",
        "test_dir = os.path.join(base_dir, 'test')\n",
        "\n",
        "if create_dir:\n",
        "    os.mkdir(train_dir)\n",
        "    os.mkdir(validation_dir)\n",
        "    os.mkdir(test_dir)"
      ],
      "execution_count": 0,
      "outputs": []
    },
    {
      "cell_type": "code",
      "metadata": {
        "id": "a5FzILk5nQ9O",
        "colab_type": "code",
        "colab": {}
      },
      "source": [
        "#Create train,validation,test directories and load folder structure and files\n",
        "if create_dir:\n",
        "    dir_names = list(d for d in os.listdir(directory_in_str))\n",
        "\n",
        "    for dir_name in dir_names:\n",
        "        print (dir_name)\n",
        "        bird_path = directory_in_str+'/'+dir_name\n",
        "\n",
        "        if len(os.listdir(bird_path)) >= 58:\n",
        "            train_bird_dir = os.path.join(train_dir,dir_name)\n",
        "            os.mkdir(train_bird_dir)\n",
        "\n",
        "            validation_bird_dir = os.path.join(validation_dir, dir_name)\n",
        "            os.mkdir(validation_bird_dir)\n",
        "\n",
        "            test_bird_dir = os.path.join(test_dir, dir_name)\n",
        "            os.mkdir(test_bird_dir)\n",
        "\n",
        "\n",
        "            for cnt, file in enumerate(os.listdir(bird_path)):\n",
        "                filename = os.fsdecode(file)\n",
        "                \n",
        "                if cnt <= 37:\n",
        "                    print('Train ',cnt,': ',filename)\n",
        "                    src = os.path.join(bird_path, filename)\n",
        "                    dst = os.path.join(train_bird_dir, filename)\n",
        "                    shutil.copyfile(src, dst)\n",
        "\n",
        "                elif cnt > 37 and cnt <= 47:\n",
        "                    print('Val ',cnt,': ',filename)\n",
        "                    src = os.path.join(bird_path, filename)\n",
        "                    dst = os.path.join(validation_bird_dir, filename)\n",
        "                    shutil.copyfile(src, dst)\n",
        "\n",
        "                elif cnt > 47 and cnt <= 57:\n",
        "                    print('Test ',cnt,': ',filename)\n",
        "                    src = os.path.join(bird_path, filename)\n",
        "                    dst = os.path.join(test_bird_dir, filename)\n",
        "                    shutil.copyfile(src, dst)\n",
        "                else:\n",
        "                    print('not used',cnt,': ',filename)\n"
      ],
      "execution_count": 0,
      "outputs": []
    },
    {
      "cell_type": "code",
      "metadata": {
        "colab_type": "code",
        "id": "i2WYv2rTrDAh",
        "colab": {}
      },
      "source": [
        "#Utility to list entire data structure in base_dir = '/content/drive/My Drive/Northwestern/MSDS462/Final Project/data'\n",
        "for dir_name in ['validation','test']:  #'train' ,'validation', 'test'\n",
        "    print (dir_name)\n",
        "    tvt_path = base_dir+'/'+dir_name\n",
        "    bcnt = 0\n",
        "    for cnt, bird in enumerate(os.listdir(tvt_path)):\n",
        "        birdname = os.fsdecode(bird)\n",
        "        print (birdname)\n",
        "        bird_path = tvt_path+'/'+ birdname\n",
        "        bcnt += 1\n",
        "        fcnt = 0\n",
        "        for birdfile in (os.listdir(bird_path)):\n",
        "            print('dir_name: ', dir_name, 'birdname: ', birdname, 'file: ', birdfile)\n",
        "            fcnt += 1\n",
        "        print('file count: ', fcnt) \n",
        "    print('bird count: ', bcnt) "
      ],
      "execution_count": 0,
      "outputs": []
    },
    {
      "cell_type": "code",
      "metadata": {
        "colab_type": "code",
        "outputId": "243d893b-c3b2-4ac9-f074-99a5e2d2a8db",
        "id": "p-u5zfbJBp36",
        "colab": {
          "base_uri": "https://localhost:8080/",
          "height": 1000
        }
      },
      "source": [
        "#list bird classes and write to CSV\n",
        "birdclass = pd.DataFrame(columns=['birdclass', 'birdname', 'bird_num'])\n",
        "base_dir = '/content/drive/My Drive/Northwestern/MSDS462/Final Project/data'\n",
        "for dir_name in ['test']:  #train,validation,test 'train' ,'validation','test'\n",
        "    tvt_path = base_dir+'/'+dir_name\n",
        "    for cnt, bird in enumerate(os.listdir(tvt_path)):\n",
        "        bird_num = os.fsdecode(bird)\n",
        "        birdname = bird_num.split(\".\")[1]\n",
        "        print (cnt, birdname, bird_num)\n",
        "        birdclass.loc[cnt] = [cnt, birdname, bird_num]\n",
        "\n",
        "birdclass.to_csv('/content/drive/My Drive/Northwestern/MSDS462/Final Project/birdclass.csv', index = False)"
      ],
      "execution_count": 0,
      "outputs": [
        {
          "output_type": "stream",
          "text": [
            "0 Black_footed_Albatross 001.Black_footed_Albatross\n",
            "1 Laysan_Albatross 002.Laysan_Albatross\n",
            "2 Sooty_Albatross 003.Sooty_Albatross\n",
            "3 Groove_billed_Ani 004.Groove_billed_Ani\n",
            "4 Brewer_Blackbird 009.Brewer_Blackbird\n",
            "5 Red_winged_Blackbird 010.Red_winged_Blackbird\n",
            "6 Rusty_Blackbird 011.Rusty_Blackbird\n",
            "7 Bobolink 013.Bobolink\n",
            "8 Lazuli_Bunting 015.Lazuli_Bunting\n",
            "9 Indigo_Bunting 014.Indigo_Bunting\n",
            "10 Painted_Bunting 016.Painted_Bunting\n",
            "11 Yellow_breasted_Chat 020.Yellow_breasted_Chat\n",
            "12 Gray_Catbird 019.Gray_Catbird\n",
            "13 Eastern_Towhee 021.Eastern_Towhee\n",
            "14 Brandt_Cormorant 023.Brandt_Cormorant\n",
            "15 Pelagic_Cormorant 025.Pelagic_Cormorant\n",
            "16 Bronzed_Cowbird 026.Bronzed_Cowbird\n",
            "17 Shiny_Cowbird 027.Shiny_Cowbird\n",
            "18 Brown_Creeper 028.Brown_Creeper\n",
            "19 American_Crow 029.American_Crow\n",
            "20 Black_billed_Cuckoo 031.Black_billed_Cuckoo\n",
            "21 Fish_Crow 030.Fish_Crow\n",
            "22 Gray_crowned_Rosy_Finch 034.Gray_crowned_Rosy_Finch\n",
            "23 Yellow_billed_Cuckoo 033.Yellow_billed_Cuckoo\n",
            "24 Northern_Flicker 036.Northern_Flicker\n",
            "25 Purple_Finch 035.Purple_Finch\n",
            "26 Acadian_Flycatcher 037.Acadian_Flycatcher\n",
            "27 Least_Flycatcher 039.Least_Flycatcher\n",
            "28 Great_Crested_Flycatcher 038.Great_Crested_Flycatcher\n",
            "29 Olive_sided_Flycatcher 040.Olive_sided_Flycatcher\n",
            "30 Vermilion_Flycatcher 042.Vermilion_Flycatcher\n",
            "31 Scissor_tailed_Flycatcher 041.Scissor_tailed_Flycatcher\n",
            "32 Yellow_bellied_Flycatcher 043.Yellow_bellied_Flycatcher\n",
            "33 Northern_Fulmar 045.Northern_Fulmar\n",
            "34 Frigatebird 044.Frigatebird\n",
            "35 Gadwall 046.Gadwall\n",
            "36 American_Goldfinch 047.American_Goldfinch\n",
            "37 European_Goldfinch 048.European_Goldfinch\n",
            "38 Boat_tailed_Grackle 049.Boat_tailed_Grackle\n",
            "39 Eared_Grebe 050.Eared_Grebe\n",
            "40 Horned_Grebe 051.Horned_Grebe\n",
            "41 Pied_billed_Grebe 052.Pied_billed_Grebe\n",
            "42 Western_Grebe 053.Western_Grebe\n",
            "43 Blue_Grosbeak 054.Blue_Grosbeak\n",
            "44 Evening_Grosbeak 055.Evening_Grosbeak\n",
            "45 Pine_Grosbeak 056.Pine_Grosbeak\n",
            "46 Rose_breasted_Grosbeak 057.Rose_breasted_Grosbeak\n",
            "47 Pigeon_Guillemot 058.Pigeon_Guillemot\n",
            "48 California_Gull 059.California_Gull\n",
            "49 Glaucous_winged_Gull 060.Glaucous_winged_Gull\n",
            "50 Heermann_Gull 061.Heermann_Gull\n",
            "51 Herring_Gull 062.Herring_Gull\n",
            "52 Ivory_Gull 063.Ivory_Gull\n",
            "53 Ring_billed_Gull 064.Ring_billed_Gull\n",
            "54 Western_Gull 066.Western_Gull\n",
            "55 Anna_Hummingbird 067.Anna_Hummingbird\n",
            "56 Ruby_throated_Hummingbird 068.Ruby_throated_Hummingbird\n",
            "57 Rufous_Hummingbird 069.Rufous_Hummingbird\n",
            "58 Green_Violetear 070.Green_Violetear\n",
            "59 Pomarine_Jaeger 072.Pomarine_Jaeger\n",
            "60 Long_tailed_Jaeger 071.Long_tailed_Jaeger\n",
            "61 Blue_Jay 073.Blue_Jay\n",
            "62 Florida_Jay 074.Florida_Jay\n",
            "63 Tropical_Kingbird 077.Tropical_Kingbird\n",
            "64 Dark_eyed_Junco 076.Dark_eyed_Junco\n",
            "65 Gray_Kingbird 078.Gray_Kingbird\n",
            "66 Belted_Kingfisher 079.Belted_Kingfisher\n",
            "67 Green_Kingfisher 080.Green_Kingfisher\n",
            "68 Pied_Kingfisher 081.Pied_Kingfisher\n",
            "69 Ringed_Kingfisher 082.Ringed_Kingfisher\n",
            "70 White_breasted_Kingfisher 083.White_breasted_Kingfisher\n",
            "71 Horned_Lark 085.Horned_Lark\n",
            "72 Pacific_Loon 086.Pacific_Loon\n",
            "73 Mallard 087.Mallard\n",
            "74 Western_Meadowlark 088.Western_Meadowlark\n",
            "75 Hooded_Merganser 089.Hooded_Merganser\n",
            "76 Mockingbird 091.Mockingbird\n",
            "77 Red_breasted_Merganser 090.Red_breasted_Merganser\n",
            "78 Nighthawk 092.Nighthawk\n",
            "79 Clark_Nutcracker 093.Clark_Nutcracker\n",
            "80 Baltimore_Oriole 095.Baltimore_Oriole\n",
            "81 White_breasted_Nuthatch 094.White_breasted_Nuthatch\n",
            "82 Hooded_Oriole 096.Hooded_Oriole\n",
            "83 Orchard_Oriole 097.Orchard_Oriole\n",
            "84 Scott_Oriole 098.Scott_Oriole\n",
            "85 Ovenbird 099.Ovenbird\n",
            "86 Brown_Pelican 100.Brown_Pelican\n",
            "87 Western_Wood_Pewee 102.Western_Wood_Pewee\n",
            "88 Sayornis 103.Sayornis\n",
            "89 American_Pipit 104.American_Pipit\n",
            "90 Horned_Puffin 106.Horned_Puffin\n",
            "91 Common_Raven 107.Common_Raven\n",
            "92 White_necked_Raven 108.White_necked_Raven\n",
            "93 American_Redstart 109.American_Redstart\n",
            "94 Geococcyx 110.Geococcyx\n",
            "95 Loggerhead_Shrike 111.Loggerhead_Shrike\n",
            "96 Great_Grey_Shrike 112.Great_Grey_Shrike\n",
            "97 Black_throated_Sparrow 114.Black_throated_Sparrow\n",
            "98 Brewer_Sparrow 115.Brewer_Sparrow\n",
            "99 Chipping_Sparrow 116.Chipping_Sparrow\n",
            "100 Clay_colored_Sparrow 117.Clay_colored_Sparrow\n",
            "101 Field_Sparrow 119.Field_Sparrow\n",
            "102 House_Sparrow 118.House_Sparrow\n",
            "103 Fox_Sparrow 120.Fox_Sparrow\n",
            "104 Grasshopper_Sparrow 121.Grasshopper_Sparrow\n",
            "105 Harris_Sparrow 122.Harris_Sparrow\n",
            "106 Henslow_Sparrow 123.Henslow_Sparrow\n",
            "107 Le_Conte_Sparrow 124.Le_Conte_Sparrow\n",
            "108 Lincoln_Sparrow 125.Lincoln_Sparrow\n",
            "109 Nelson_Sharp_tailed_Sparrow 126.Nelson_Sharp_tailed_Sparrow\n",
            "110 Savannah_Sparrow 127.Savannah_Sparrow\n",
            "111 Seaside_Sparrow 128.Seaside_Sparrow\n",
            "112 Song_Sparrow 129.Song_Sparrow\n",
            "113 Tree_Sparrow 130.Tree_Sparrow\n",
            "114 Vesper_Sparrow 131.Vesper_Sparrow\n",
            "115 White_crowned_Sparrow 132.White_crowned_Sparrow\n",
            "116 White_throated_Sparrow 133.White_throated_Sparrow\n",
            "117 Cape_Glossy_Starling 134.Cape_Glossy_Starling\n",
            "118 Bank_Swallow 135.Bank_Swallow\n",
            "119 Barn_Swallow 136.Barn_Swallow\n",
            "120 Cliff_Swallow 137.Cliff_Swallow\n",
            "121 Tree_Swallow 138.Tree_Swallow\n",
            "122 Scarlet_Tanager 139.Scarlet_Tanager\n",
            "123 Summer_Tanager 140.Summer_Tanager\n",
            "124 Artic_Tern 141.Artic_Tern\n",
            "125 Black_Tern 142.Black_Tern\n",
            "126 Caspian_Tern 143.Caspian_Tern\n",
            "127 Common_Tern 144.Common_Tern\n",
            "128 Elegant_Tern 145.Elegant_Tern\n",
            "129 Forsters_Tern 146.Forsters_Tern\n",
            "130 Least_Tern 147.Least_Tern\n",
            "131 Green_tailed_Towhee 148.Green_tailed_Towhee\n",
            "132 Brown_Thrasher 149.Brown_Thrasher\n",
            "133 Sage_Thrasher 150.Sage_Thrasher\n",
            "134 Blue_headed_Vireo 152.Blue_headed_Vireo\n",
            "135 Philadelphia_Vireo 153.Philadelphia_Vireo\n",
            "136 Red_eyed_Vireo 154.Red_eyed_Vireo\n",
            "137 White_eyed_Vireo 156.White_eyed_Vireo\n",
            "138 Warbling_Vireo 155.Warbling_Vireo\n",
            "139 Yellow_throated_Vireo 157.Yellow_throated_Vireo\n",
            "140 Bay_breasted_Warbler 158.Bay_breasted_Warbler\n",
            "141 Black_and_white_Warbler 159.Black_and_white_Warbler\n",
            "142 Black_throated_Blue_Warbler 160.Black_throated_Blue_Warbler\n",
            "143 Blue_winged_Warbler 161.Blue_winged_Warbler\n",
            "144 Canada_Warbler 162.Canada_Warbler\n",
            "145 Cape_May_Warbler 163.Cape_May_Warbler\n",
            "146 Cerulean_Warbler 164.Cerulean_Warbler\n",
            "147 Chestnut_sided_Warbler 165.Chestnut_sided_Warbler\n",
            "148 Golden_winged_Warbler 166.Golden_winged_Warbler\n",
            "149 Hooded_Warbler 167.Hooded_Warbler\n",
            "150 Kentucky_Warbler 168.Kentucky_Warbler\n",
            "151 Magnolia_Warbler 169.Magnolia_Warbler\n",
            "152 Mourning_Warbler 170.Mourning_Warbler\n",
            "153 Myrtle_Warbler 171.Myrtle_Warbler\n",
            "154 Nashville_Warbler 172.Nashville_Warbler\n",
            "155 Orange_crowned_Warbler 173.Orange_crowned_Warbler\n",
            "156 Palm_Warbler 174.Palm_Warbler\n",
            "157 Pine_Warbler 175.Pine_Warbler\n",
            "158 Prairie_Warbler 176.Prairie_Warbler\n",
            "159 Prothonotary_Warbler 177.Prothonotary_Warbler\n",
            "160 Tennessee_Warbler 179.Tennessee_Warbler\n",
            "161 Wilson_Warbler 180.Wilson_Warbler\n",
            "162 Worm_eating_Warbler 181.Worm_eating_Warbler\n",
            "163 Northern_Waterthrush 183.Northern_Waterthrush\n",
            "164 Yellow_Warbler 182.Yellow_Warbler\n",
            "165 Louisiana_Waterthrush 184.Louisiana_Waterthrush\n",
            "166 Bohemian_Waxwing 185.Bohemian_Waxwing\n",
            "167 Cedar_Waxwing 186.Cedar_Waxwing\n",
            "168 Pileated_Woodpecker 188.Pileated_Woodpecker\n",
            "169 Red_bellied_Woodpecker 189.Red_bellied_Woodpecker\n",
            "170 Red_cockaded_Woodpecker 190.Red_cockaded_Woodpecker\n",
            "171 Red_headed_Woodpecker 191.Red_headed_Woodpecker\n",
            "172 Downy_Woodpecker 192.Downy_Woodpecker\n",
            "173 Bewick_Wren 193.Bewick_Wren\n",
            "174 Cactus_Wren 194.Cactus_Wren\n",
            "175 Carolina_Wren 195.Carolina_Wren\n",
            "176 House_Wren 196.House_Wren\n",
            "177 Rock_Wren 198.Rock_Wren\n",
            "178 Marsh_Wren 197.Marsh_Wren\n",
            "179 Winter_Wren 199.Winter_Wren\n",
            "180 Common_Yellowthroat 200.Common_Yellowthroat\n"
          ],
          "name": "stdout"
        }
      ]
    },
    {
      "cell_type": "markdown",
      "metadata": {
        "id": "AZk5C3Qok5q5",
        "colab_type": "text"
      },
      "source": [
        "## MobileNetV2\n"
      ]
    },
    {
      "cell_type": "markdown",
      "metadata": {
        "id": "-UEj9pEvlfFv",
        "colab_type": "text"
      },
      "source": [
        "### Model"
      ]
    },
    {
      "cell_type": "code",
      "metadata": {
        "id": "P6a_VQQyg7js",
        "colab_type": "code",
        "outputId": "c9d75eff-4676-49ad-df09-4517abc5251d",
        "colab": {
          "base_uri": "https://localhost:8080/",
          "height": 339
        }
      },
      "source": [
        "from tensorflow.keras.applications import MobileNetV2\n",
        "\n",
        "base_model = MobileNetV2(weights='imagenet',\n",
        "                         include_top=False,\n",
        "                         input_shape=(224, 224, 3))\n",
        "for layer in base_model.layers[:]:\n",
        "  layer.trainable = False\n",
        "\n",
        "model = models.Sequential()\n",
        "model.add(base_model)\n",
        "model.add(layers.GlobalAveragePooling2D())\n",
        "model.add(layers.Dense(1280, activation='relu'))\n",
        "model.add(layers.Dense(181, activation='softmax'))\n",
        "model.summary()\n"
      ],
      "execution_count": 0,
      "outputs": [
        {
          "output_type": "stream",
          "text": [
            "Downloading data from https://storage.googleapis.com/tensorflow/keras-applications/mobilenet_v2/mobilenet_v2_weights_tf_dim_ordering_tf_kernels_1.0_224_no_top.h5\n",
            "9412608/9406464 [==============================] - 0s 0us/step\n",
            "Model: \"sequential\"\n",
            "_________________________________________________________________\n",
            "Layer (type)                 Output Shape              Param #   \n",
            "=================================================================\n",
            "mobilenetv2_1.00_224 (Model) (None, 7, 7, 1280)        2257984   \n",
            "_________________________________________________________________\n",
            "global_average_pooling2d (Gl (None, 1280)              0         \n",
            "_________________________________________________________________\n",
            "dense (Dense)                (None, 1280)              1639680   \n",
            "_________________________________________________________________\n",
            "dense_1 (Dense)              (None, 181)               231861    \n",
            "=================================================================\n",
            "Total params: 4,129,525\n",
            "Trainable params: 1,871,541\n",
            "Non-trainable params: 2,257,984\n",
            "_________________________________________________________________\n"
          ],
          "name": "stdout"
        }
      ]
    },
    {
      "cell_type": "markdown",
      "metadata": {
        "id": "m7CMqkfeT-oc",
        "colab_type": "text"
      },
      "source": [
        "## Data Generators"
      ]
    },
    {
      "cell_type": "code",
      "metadata": {
        "id": "NZl7mKuOatPX",
        "colab_type": "code",
        "outputId": "07fb08d4-dbb2-4a34-a57b-fb95142f547f",
        "colab": {
          "base_uri": "https://localhost:8080/",
          "height": 67
        }
      },
      "source": [
        "# Setup data generators and use data augmentation in train data generator\n",
        "train_datagen = ImageDataGenerator(\n",
        "      rescale=1./255,\n",
        "      rotation_range=40,\n",
        "      width_shift_range=0.2,\n",
        "      height_shift_range=0.2,\n",
        "      shear_range=0.2,\n",
        "      zoom_range=0.2,\n",
        "      horizontal_flip=True,\n",
        "      fill_mode='nearest')\n",
        "\n",
        "train_generator = train_datagen.flow_from_directory(\n",
        "        train_dir,\n",
        "        target_size=(224, 224),\n",
        "        batch_size=52,\n",
        "        class_mode='categorical')\n",
        "\n",
        "# generator with no augmentation\n",
        "test_datagen = ImageDataGenerator(rescale=1./255)\n",
        "\n",
        "validation_generator = test_datagen.flow_from_directory(\n",
        "        validation_dir,\n",
        "        target_size=(224, 224),\n",
        "        batch_size=30,\n",
        "        class_mode='categorical')\n",
        "\n",
        "test_generator = test_datagen.flow_from_directory(\n",
        "        test_dir,\n",
        "        target_size=(224, 224),\n",
        "        batch_size=30,\n",
        "        class_mode='categorical',\n",
        "        shuffle=False)"
      ],
      "execution_count": 0,
      "outputs": [
        {
          "output_type": "stream",
          "text": [
            "Found 6878 images belonging to 181 classes.\n",
            "Found 1810 images belonging to 181 classes.\n",
            "Found 1810 images belonging to 181 classes.\n"
          ],
          "name": "stdout"
        }
      ]
    },
    {
      "cell_type": "code",
      "metadata": {
        "id": "oyLAvTI1UDwU",
        "colab_type": "code",
        "outputId": "0ca50918-ebcb-48d3-b8e1-1f0c275bbe33",
        "colab": {
          "base_uri": "https://localhost:8080/",
          "height": 689
        }
      },
      "source": [
        "# set model to run for epochs unless early stopping rule is met\n",
        "earlystop_callback = \\\n",
        "    tf.keras.callbacks.EarlyStopping(monitor='val_accuracy',\\\n",
        "    min_delta=0.01, patience=5, verbose=0, mode='auto',\\\n",
        "    baseline=None, restore_best_weights=False)\n",
        "\n",
        "#compile - set learning rate very low for fine tuning\n",
        "model.compile(optimizer = optimizers.Adam(lr=.001),\n",
        "              loss = 'categorical_crossentropy', \n",
        "              metrics = ['accuracy'])\n",
        "\n",
        "begin_time = time()\n",
        "\n",
        "#fit model \n",
        "history = model.fit(\n",
        "      train_generator,\n",
        "      steps_per_epoch= 132,\n",
        "      epochs=30,\n",
        "      validation_data=validation_generator,\n",
        "      validation_steps=60,\n",
        "      callbacks = [earlystop_callback]) \n",
        "\n",
        "#capture timing\n",
        "execution_time = time() - begin_time\n",
        "print('\\nTime of execution for training (seconds):', \\\n",
        "      '{:10.3f}'.format(np.round(execution_time, decimals = 3)))"
      ],
      "execution_count": 0,
      "outputs": [
        {
          "output_type": "stream",
          "text": [
            "Epoch 1/30\n",
            "132/132 [==============================] - 3335s 25s/step - loss: 3.7723 - accuracy: 0.1749 - val_loss: 2.5484 - val_accuracy: 0.3517\n",
            "Epoch 2/30\n",
            "132/132 [==============================] - 109s 827ms/step - loss: 2.2786 - accuracy: 0.4054 - val_loss: 2.2025 - val_accuracy: 0.4000\n",
            "Epoch 3/30\n",
            "132/132 [==============================] - 109s 827ms/step - loss: 1.8901 - accuracy: 0.4873 - val_loss: 2.0177 - val_accuracy: 0.4578\n",
            "Epoch 4/30\n",
            "132/132 [==============================] - 110s 830ms/step - loss: 1.6436 - accuracy: 0.5488 - val_loss: 1.9370 - val_accuracy: 0.4661\n",
            "Epoch 5/30\n",
            "132/132 [==============================] - 109s 824ms/step - loss: 1.4513 - accuracy: 0.5927 - val_loss: 1.8531 - val_accuracy: 0.4867\n",
            "Epoch 6/30\n",
            "132/132 [==============================] - 109s 824ms/step - loss: 1.3158 - accuracy: 0.6253 - val_loss: 1.8488 - val_accuracy: 0.4950\n",
            "Epoch 7/30\n",
            "132/132 [==============================] - 109s 822ms/step - loss: 1.2387 - accuracy: 0.6477 - val_loss: 1.8583 - val_accuracy: 0.5022\n",
            "Epoch 8/30\n",
            "132/132 [==============================] - 109s 825ms/step - loss: 1.1130 - accuracy: 0.6751 - val_loss: 1.8805 - val_accuracy: 0.5017\n",
            "Epoch 9/30\n",
            "132/132 [==============================] - 109s 828ms/step - loss: 1.0266 - accuracy: 0.6965 - val_loss: 1.8348 - val_accuracy: 0.5117\n",
            "Epoch 10/30\n",
            "132/132 [==============================] - 110s 830ms/step - loss: 0.9436 - accuracy: 0.7233 - val_loss: 1.9078 - val_accuracy: 0.5072\n",
            "Epoch 11/30\n",
            "132/132 [==============================] - 110s 836ms/step - loss: 0.9022 - accuracy: 0.7344 - val_loss: 1.9191 - val_accuracy: 0.4989\n",
            "Epoch 12/30\n",
            "132/132 [==============================] - 111s 839ms/step - loss: 0.8599 - accuracy: 0.7400 - val_loss: 1.9108 - val_accuracy: 0.5156\n",
            "Epoch 13/30\n",
            "132/132 [==============================] - 109s 826ms/step - loss: 0.8048 - accuracy: 0.7631 - val_loss: 1.8992 - val_accuracy: 0.5200\n",
            "Epoch 14/30\n",
            "132/132 [==============================] - 109s 825ms/step - loss: 0.7461 - accuracy: 0.7744 - val_loss: 1.8856 - val_accuracy: 0.5272\n",
            "Epoch 15/30\n",
            "132/132 [==============================] - 109s 826ms/step - loss: 0.6969 - accuracy: 0.7923 - val_loss: 1.9324 - val_accuracy: 0.5089\n",
            "Epoch 16/30\n",
            "132/132 [==============================] - 109s 822ms/step - loss: 0.6561 - accuracy: 0.8003 - val_loss: 1.9084 - val_accuracy: 0.5083\n",
            "Epoch 17/30\n",
            "132/132 [==============================] - 108s 819ms/step - loss: 0.6028 - accuracy: 0.8139 - val_loss: 2.0019 - val_accuracy: 0.5122\n",
            "Epoch 18/30\n",
            "132/132 [==============================] - 109s 825ms/step - loss: 0.5996 - accuracy: 0.8186 - val_loss: 1.9542 - val_accuracy: 0.5228\n",
            "Epoch 19/30\n",
            "132/132 [==============================] - 108s 821ms/step - loss: 0.5515 - accuracy: 0.8295 - val_loss: 1.9887 - val_accuracy: 0.5211\n",
            "\n",
            "Time of execution for training (seconds):   5365.804\n"
          ],
          "name": "stdout"
        }
      ]
    },
    {
      "cell_type": "code",
      "metadata": {
        "id": "ORFnO8aBxceg",
        "colab_type": "code",
        "colab": {}
      },
      "source": [
        "model.save('/content/drive/My Drive/Northwestern/MSDS462/Final Project/model_20200606.h5')"
      ],
      "execution_count": 0,
      "outputs": []
    },
    {
      "cell_type": "markdown",
      "metadata": {
        "id": "jKpgEE4nVXNw",
        "colab_type": "text"
      },
      "source": [
        "##Evaluate"
      ]
    },
    {
      "cell_type": "code",
      "metadata": {
        "id": "7iMSDiOKgFLX",
        "colab_type": "code",
        "outputId": "305eefc5-aadf-44e0-addd-5fe994936f45",
        "colab": {
          "base_uri": "https://localhost:8080/",
          "height": 555
        }
      },
      "source": [
        "#Plot Training and validation loss\n",
        "loss = history.history['loss']\n",
        "val_loss = history.history['val_loss']\n",
        "epochs = range(1, len(loss) + 1)\n",
        "\n",
        "plt.figure(figsize=(15,5))\n",
        "plt.subplot(1,2,1)\n",
        "plt.plot(epochs, loss, 'bo', label='Training loss')\n",
        "plt.plot(epochs, val_loss, 'b', label='Validation loss')\n",
        "plt.title('Training and validation loss')\n",
        "plt.xlabel('Epochs')\n",
        "plt.ylabel('Loss')\n",
        "plt.legend()\n",
        "\n",
        "#Plot Training and validation accuracy\n",
        "acc = history.history['accuracy']\n",
        "val_acc = history.history['val_accuracy']\n",
        "\n",
        "plt.subplot(1,2,2)\n",
        "plt.plot(epochs, acc, 'bo', label='Training acc')\n",
        "plt.plot(epochs, val_acc, 'b', label='Validation acc')\n",
        "plt.title('Training and validation accuracy')\n",
        "plt.xlabel('Epochs')\n",
        "plt.ylabel('Accuracy')\n",
        "plt.legend()\n",
        "plt.show()\n",
        "\n",
        "# evaluate fitted model on the full training set\n",
        "train_loss, train_acc = model.evaluate(train_generator, steps=132, verbose = 3)\n",
        "train_acc_r = np.round(train_acc, decimals = 4)\n",
        "print('\\nFull training set accuracy:', '{:6.4f}'.format(train_acc_r))\n",
        "\n",
        "# evaluate the fitted model on the hold-out test set\n",
        "test_loss, test_acc = model.evaluate(test_generator, steps=60, verbose = 3)\n",
        "test_acc_r = np.round(test_acc, decimals = 4)\n",
        "print('Full test set accuracy:','{:6.4f}'.format(test_acc_r))\n",
        "\n",
        "# examine the predicted values\n",
        "predictions = model.predict_generator(test_generator, steps=61)\n",
        "val_pred = np.argmax(predictions, axis=-1)\n",
        "val_true = test_generator.classes\n",
        "\n",
        "print('\\nListing of first twenty test labels and predictions')\n",
        "print('y_test_labels', val_true[:20])\n",
        "print('Predictions  ', val_pred[:20])\n",
        "\n",
        "#calculate f1 score\n",
        "f1_score = metrics.precision_recall_fscore_support(val_true, val_pred, \\\n",
        "                                                   average='weighted')[2]\n",
        "print(\"\\nTest set F1 (weighted average):\", f1_score)\n"
      ],
      "execution_count": 0,
      "outputs": [
        {
          "output_type": "display_data",
          "data": {
            "image/png": "[encoded data removed]",
            "text/plain": [
              "<Figure size 1080x360 with 2 Axes>"
            ]
          },
          "metadata": {
            "tags": [],
            "needs_background": "light"
          }
        },
        {
          "output_type": "stream",
          "text": [
            "\n",
            "Full training set accuracy: 0.8543\n",
            "Full test set accuracy: 0.5211\n",
            "\n",
            "Listing of first twenty test labels and predictions\n",
            "y_test_labels [0 0 0 0 0 0 0 0 0 0 1 1 1 1 1 1 1 1 1 1]\n",
            "Predictions   [ 0  0  0 59  0  0  0  0  2  0 33  1  1 48  1  2 48  2  1 40]\n",
            "\n",
            "Test set F1 (weighted average): 0.51649339061111\n"
          ],
          "name": "stdout"
        },
        {
          "output_type": "stream",
          "text": [
            "/usr/local/lib/python3.6/dist-packages/sklearn/metrics/_classification.py:1272: UndefinedMetricWarning: Precision and F-score are ill-defined and being set to 0.0 in labels with no predicted samples. Use `zero_division` parameter to control this behavior.\n",
            "  _warn_prf(average, modifier, msg_start, len(result))\n"
          ],
          "name": "stderr"
        }
      ]
    },
    {
      "cell_type": "markdown",
      "metadata": {
        "id": "AHwZWmS9kJzP",
        "colab_type": "text"
      },
      "source": [
        "## Freeze Model and Save\n"
      ]
    },
    {
      "cell_type": "code",
      "metadata": {
        "id": "rniN_4wn8mSc",
        "colab_type": "code",
        "outputId": "cc70ef84-e546-4c82-8be7-84cd98c26353",
        "colab": {
          "base_uri": "https://localhost:8080/",
          "height": 87
        }
      },
      "source": [
        "import tensorflow.compat.v1 as tf  \n",
        "tf.disable_v2_behavior()\n",
        "from tensorflow import keras\n",
        "from tensorflow.keras.models import Sequential\n",
        "from tensorflow.keras import layers\n",
        "from tensorflow.keras.utils import to_categorical\n",
        "from sklearn import metrics\n",
        "import pandas as pd\n",
        "import numpy as np\n",
        "import matplotlib.pyplot as plt"
      ],
      "execution_count": 0,
      "outputs": [
        {
          "output_type": "stream",
          "text": [
            "WARNING:tensorflow:From /usr/local/lib/python3.6/dist-packages/tensorflow/python/compat/v2_compat.py:96: disable_resource_variables (from tensorflow.python.ops.variable_scope) is deprecated and will be removed in a future version.\n",
            "Instructions for updating:\n",
            "non-resource variables are not supported in the long term\n"
          ],
          "name": "stdout"
        }
      ]
    },
    {
      "cell_type": "code",
      "metadata": {
        "id": "cdWKApNBzF5n",
        "colab_type": "code",
        "outputId": "a553318a-21e5-4322-e62e-d468880455a5",
        "colab": {
          "base_uri": "https://localhost:8080/",
          "height": 87
        }
      },
      "source": [
        "from tensorflow.keras.models import load_model\n",
        "model = load_model('/content/drive/My Drive/Northwestern/MSDS462/Final Project/model_20200606.h5')"
      ],
      "execution_count": 0,
      "outputs": [
        {
          "output_type": "stream",
          "text": [
            "WARNING:tensorflow:From /usr/local/lib/python3.6/dist-packages/tensorflow/python/ops/resource_variable_ops.py:1666: calling BaseResourceVariable.__init__ (from tensorflow.python.ops.resource_variable_ops) with constraint is deprecated and will be removed in a future version.\n",
            "Instructions for updating:\n",
            "If using Keras pass *_constraint arguments to layers.\n"
          ],
          "name": "stdout"
        }
      ]
    },
    {
      "cell_type": "code",
      "metadata": {
        "id": "gymuqqeK2qZl",
        "colab_type": "code",
        "outputId": "3c2dc277-8b27-45e7-a560-6cd86aee3713",
        "colab": {
          "base_uri": "https://localhost:8080/",
          "height": 286
        }
      },
      "source": [
        "model.summary()"
      ],
      "execution_count": 0,
      "outputs": [
        {
          "output_type": "stream",
          "text": [
            "Model: \"sequential\"\n",
            "_________________________________________________________________\n",
            "Layer (type)                 Output Shape              Param #   \n",
            "=================================================================\n",
            "mobilenetv2_1.00_224 (Model) (None, 7, 7, 1280)        2257984   \n",
            "_________________________________________________________________\n",
            "global_average_pooling2d (Gl (None, 1280)              0         \n",
            "_________________________________________________________________\n",
            "dense (Dense)                (None, 1280)              1639680   \n",
            "_________________________________________________________________\n",
            "dense_1 (Dense)              (None, 181)               231861    \n",
            "=================================================================\n",
            "Total params: 4,129,525\n",
            "Trainable params: 1,871,541\n",
            "Non-trainable params: 2,257,984\n",
            "_________________________________________________________________\n"
          ],
          "name": "stdout"
        }
      ]
    },
    {
      "cell_type": "code",
      "metadata": {
        "id": "1J3e60NLgdrw",
        "colab_type": "code",
        "colab": {}
      },
      "source": [
        "def freeze_session(session, keep_var_names=None, output_names=None, clear_devices=True):\n",
        "    \"\"\"\n",
        "    Freezes the state of a session into a pruned computation graph.\n",
        "\n",
        "    Creates a new computation graph where variable nodes are replaced by\n",
        "    constants taking their current value in the session. The new graph will be\n",
        "    pruned so subgraphs that are not necessary to compute the requested\n",
        "    outputs are removed.\n",
        "    @param session The TensorFlow session to be frozen.\n",
        "    @param keep_var_names A list of variable names that should not be frozen,\n",
        "                          or None to freeze all the variables in the graph.\n",
        "    @param output_names Names of the relevant graph outputs.\n",
        "    @param clear_devices Remove the device directives from the graph for better portability.\n",
        "    @return The frozen graph definition.\n",
        "    \"\"\"\n",
        "    graph = session.graph\n",
        "    with graph.as_default():\n",
        "        freeze_var_names = list(set(v.op.name for v in tf.global_variables()).difference(keep_var_names or []))\n",
        "        output_names = output_names or []\n",
        "        output_names += [v.op.name for v in tf.global_variables()]\n",
        "        input_graph_def = graph.as_graph_def()\n",
        "        if clear_devices:\n",
        "            for node in input_graph_def.node:\n",
        "                node.device = ''\n",
        "        frozen_graph = tf.graph_util.convert_variables_to_constants(\n",
        "            session, input_graph_def, output_names, freeze_var_names)\n",
        "        return frozen_graph"
      ],
      "execution_count": 0,
      "outputs": []
    },
    {
      "cell_type": "code",
      "metadata": {
        "id": "kPtOW2WokCJL",
        "colab_type": "code",
        "outputId": "952a912a-c2d8-469c-ca5e-a3aa2819c471",
        "colab": {
          "base_uri": "https://localhost:8080/",
          "height": 101
        }
      },
      "source": [
        "#Create .pb file\n",
        "\n",
        "# inputs: \n",
        "print('inputs: ', [input.op.name for input in model.inputs])\n",
        "\n",
        "# outputs: \n",
        "print('outputs: ', [output.op.name for output in model.outputs])\n",
        "\n",
        "frozen_graph = freeze_session(tf.keras.backend.get_session(), output_names=[out.op.name for out in model.outputs])\n",
        "#frozen_graph = freeze_session(tf.keras.backend.get_session(), output_names=['dense_1/Identity'])\n",
        "tf.train.write_graph(frozen_graph, './', 'mobilenetv2.pbtxt', as_text=True)\n",
        "tf.train.write_graph(frozen_graph, './', 'mobilenetv2.pb', as_text=False)\n"
      ],
      "execution_count": 0,
      "outputs": [
        {
          "output_type": "stream",
          "text": [
            "inputs:  ['mobilenetv2_1.00_224_input']\n",
            "outputs:  ['dense_1/Softmax']\n",
            "INFO:tensorflow:Froze 277 variables.\n",
            "INFO:tensorflow:Converted 277 variables to const ops.\n"
          ],
          "name": "stdout"
        },
        {
          "output_type": "execute_result",
          "data": {
            "text/plain": [
              "'./mobilenetv2.pb'"
            ]
          },
          "metadata": {
            "tags": []
          },
          "execution_count": 6
        }
      ]
    }
  ]
}